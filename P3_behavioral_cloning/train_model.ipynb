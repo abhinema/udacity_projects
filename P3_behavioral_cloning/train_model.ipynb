{
 "cells": [
  {
   "cell_type": "markdown",
   "metadata": {},
   "source": [
    "# Behavioral Cloning Project\n",
    "\n",
    "The goals / steps of this project are the following:\n",
    "* Use the simulator to collect data of good driving behavior\n",
    "* Build, a convolution neural network in Keras that predicts steering angles from images\n",
    "* Train and validate the model with a training and validation set\n",
    "* Test that the model successfully drives around track one without leaving the road\n",
    "* Summarize the results with a written report (This is that written report.)"
   ]
  },
  {
   "cell_type": "markdown",
   "metadata": {},
   "source": [
    "## Rubric Points\n",
    "** Here I will consider the [rubric points](https://review.udacity.com/#!/rubrics/432/view) individually and describe how I addressed each point in my implementation.  **\n",
    "\n",
    "---\n",
    "### Files Submitted & Code Quality\n",
    "\n",
    "#### 1. Submission includes all required files and can be used to run the simulator in autonomous mode\n",
    "\n",
    "My project includes the following files:\n",
    "* model.py containing the script to create and train the model\n",
    "* drive.py for driving the car in autonomous mode\n",
    "* model.h5 containing a trained convolution neural network \n",
    "* writeup_report.md - summary of results\n",
    "* model.ipynb - source document for the writeup.md and model.py. \n",
    "\n",
    "#### 2. Submission includes functional code\n",
    "Using the Udacity provided simulator and my drive.py file, the car can be driven autonomously around the track by executing \n",
    "```sh\n",
    "python drive.py model.h5\n",
    "```\n",
    "\n",
    "#### 3. Submission code is usable and readable\n",
    "\n",
    "The model.py file contains the code for training and saving the convolution neural network. The file shows the pipeline I used for training and validating the model, and it contains comments to explain how the code works."
   ]
  },
  {
   "cell_type": "markdown",
   "metadata": {},
   "source": [
    "## Overall process\n",
    "\n",
    "1. Create training data by driving around the track.\n",
    "2. Design and test different model archetectures.\n",
    "3. Tune model parameters.\n",
    "4. Test model on track. \n"
   ]
  },
  {
   "cell_type": "markdown",
   "metadata": {},
   "source": [
    "## 1. Creation of the Training Set & Training Process\n",
    "\n",
    "To capture training data I drop around track 1 three times using center lain driving. To help the car recover if it got off the track I collected training data driving on the left and right side of the track for a total of 6 laps. To create even more training data I drove the same center, left and right courses going in the reverse direction. \n",
    "\n",
    "Here is the code I used to visualize the collected training data."
   ]
  },
  {
   "cell_type": "code",
   "execution_count": 1,
   "metadata": {},
   "outputs": [],
   "source": [
    "import cv2\n",
    "import os\n",
    "import pandas as pd\n",
    "import numpy as np\n",
    "from PIL import Image\n",
    "import random\n",
    "%matplotlib inline"
   ]
  },
  {
   "cell_type": "code",
   "execution_count": 10,
   "metadata": {},
   "outputs": [],
   "source": [
    "#Constants\n",
    "DATA_PATH = '/home/wroscoe/code/udacity-sdc-1/projects/P3_behavioral_cloning/driving_data/'\n",
    "SIDE_CAMERA_ADJUSTMENT = .06\n",
    "SIDE_DRIVING_ADJUSTMENT = .3"
   ]
  },
  {
   "cell_type": "code",
   "execution_count": 11,
   "metadata": {},
   "outputs": [
    {
     "data": {
      "text/plain": [
       "<matplotlib.axes._subplots.AxesSubplot at 0x7f29f64ecef0>"
      ]
     },
     "execution_count": 11,
     "metadata": {},
     "output_type": "execute_result"
    },
    {
     "data": {
      "image/png": "[encoded data removed]",
      "text/plain": [
       "<matplotlib.figure.Figure at 0x7f29f64e5cc0>"
      ]
     },
     "metadata": {},
     "output_type": "display_data"
    }
   ],
   "source": [
    "def convert_paths(df, folder):\n",
    "    #convert paths of datalog to those on local computer\n",
    "    for i in range(len(df)):\n",
    "        for col in ['img_center', 'img_left', 'img_right']:\n",
    "            file = df.ix[i, col].split('/')[-1]\n",
    "            img_path = os.path.join(folder, 'IMG', file)\n",
    "            df.ix[i, col] = img_path\n",
    "    return df\n",
    "\n",
    "def load_datasets(folder_nums):\n",
    "    #load datasets from multiple folders\n",
    "    dataframes = []\n",
    "    for num in folder_nums:\n",
    "        folder = os.path.join(DATA_PATH, 'track_'+str(num))\n",
    "        df = pd.read_csv(os.path.join(folder, 'driving_log.csv'))\n",
    "        df.columns = ['img_center', 'img_left', 'img_right', 'steering', 'throttle', 'break', 'speed']\n",
    "        df = convert_paths(df, folder)\n",
    "        dataframes.append(df)\n",
    "    df = pd.concat(dataframes)\n",
    "    return df\n",
    "\n",
    "#Load the datasets.\n",
    "df_center = load_datasets([11,14])\n",
    "df_left = load_datasets([13,15])\n",
    "df_right = load_datasets([12,16])\n",
    "\n",
    "df = pd.concat([df_center, df_left, df_right])\n",
    "df = df.reset_index(drop=True)\n",
    "df['steering'].plot()"
   ]
  },
  {
   "cell_type": "markdown",
   "metadata": {},
   "source": [
    "Since I didn't want the car to go to drive on the side of track, I adjusted the training data where I drove on the side to have higher steering angles back toward the center of the track. The training data collected on the right side had an adjustment of + .3 and the left training data had an adjustment of -.3."
   ]
  },
  {
   "cell_type": "code",
   "execution_count": 17,
   "metadata": {},
   "outputs": [
    {
     "data": {
      "text/plain": [
       "<matplotlib.axes._subplots.AxesSubplot at 0x7f8678269e10>"
      ]
     },
     "execution_count": 17,
     "metadata": {},
     "output_type": "execute_result"
    },
    {
     "data": {
      "image/png": "[encoded data removed]",
      "text/plain": [
       "<matplotlib.figure.Figure at 0x7f86d72c8438>"
      ]
     },
     "metadata": {},
     "output_type": "display_data"
    }
   ],
   "source": [
    "#Here we adjust the steering angles of the training data where I \n",
    "#drove on the side of the track. \n",
    "df_left['steering'] = df_left['steering'] + SIDE_DRIVING_ADJUSTMENT\n",
    "df_right['steering'] = df_right['steering'] - SIDE_DRIVING_ADJUSTMENT\n",
    "df = pd.concat([df_center, df_left, df_right])\n",
    "df = df.reset_index(drop=True)\n",
    "df['steering'].plot()"
   ]
  },
  {
   "cell_type": "code",
   "execution_count": 13,
   "metadata": {},
   "outputs": [
    {
     "data": {
      "text/plain": [
       "<matplotlib.axes._subplots.AxesSubplot at 0x7f29fb727e48>"
      ]
     },
     "execution_count": 13,
     "metadata": {},
     "output_type": "execute_result"
    },
    {
     "data": {
      "image/png": "[encoded data removed]",
      "text/plain": [
       "<matplotlib.figure.Figure at 0x7f29fb730e80>"
      ]
     },
     "metadata": {},
     "output_type": "display_data"
    }
   ],
   "source": [
    "df['steering'].hist(bins=81)"
   ]
  },
  {
   "cell_type": "code",
   "execution_count": 14,
   "metadata": {},
   "outputs": [],
   "source": [
    "#df_curves['steering'].hist(bins=81)"
   ]
  },
  {
   "cell_type": "code",
   "execution_count": 21,
   "metadata": {
    "collapsed": true
   },
   "outputs": [],
   "source": [
    "def get_data(df, row, img_col, steering_adjust):\n",
    "    img_path = df[img_col][row]\n",
    "    #print(img_path)\n",
    "    img = Image.open(img_path)\n",
    "    img_arr = np.array(img)\n",
    "    raw_angle = df['steering'][row]\n",
    "    #print('raw_angle ', raw_angle)\n",
    "    angle = raw_angle + steering_adjust\n",
    "    #print('adjusted angle', angle)\n",
    "    return img_arr, angle"
   ]
  },
  {
   "cell_type": "markdown",
   "metadata": {},
   "source": [
    "To prepare the data for training the neural network I used a generator to create batches of image and steering angle pairs. For each data row the generator selects a random camera angel (left,center or right) and adjustes the steering angel to bring the car back to center and flips the image horizontally and reverses the steerign angle half the time to create more data inputs to help avoid over fitting. "
   ]
  },
  {
   "cell_type": "code",
   "execution_count": 22,
   "metadata": {
    "collapsed": true
   },
   "outputs": [],
   "source": [
    "def data_gen(df, batch_size=64, sample_ix=None):\n",
    "    arg_choices = [\n",
    "                    {'img_col': 'img_center', 'adjust': 0.0},\n",
    "                    {'img_col': 'img_left',   'adjust': SIDE_CAMERA_ADJUSTMENT},\n",
    "                    {'img_col': 'img_right',  'adjust': -SIDE_CAMERA_ADJUSTMENT},]    \n",
    "\n",
    "    while True:\n",
    "        images=[]\n",
    "        angles=[]\n",
    "        rows = sample_ix[:batch_size]\n",
    "        for i in rows:\n",
    "            #randomly select a camera angle.\n",
    "            args = random.choice(arg_choices)\n",
    "            #get the numpy array and adjust the steering angle.\n",
    "            img, angle = get_data(df, i, args['img_col'], steering_adjust=args['adjust'])\n",
    "\n",
    "            #half the time flip the steering angle. \n",
    "            flip = random.randint(0, 1)\n",
    "            if flip == 1:\n",
    "                img = np.fliplr(img)\n",
    "                angle = -angle\n",
    "                \n",
    "            images.append(img)\n",
    "            angles.append(angle)\n",
    "\n",
    "        #create the batch of images and steering images for keras.\n",
    "        X_train = np.array(images)\n",
    "        y_train = np.array(angles)\n",
    "        yield X_train, y_train"
   ]
  },
  {
   "cell_type": "markdown",
   "metadata": {},
   "source": [
    "To avoid overfitting we split the data set into a training set that we use to train the model and a validation set that the model has never seen that is used to test if the model has learned something other than memorizing the input data. "
   ]
  },
  {
   "cell_type": "code",
   "execution_count": 23,
   "metadata": {
    "collapsed": true
   },
   "outputs": [],
   "source": [
    "#create and index of the data rows\n",
    "df = df.reset_index(drop=True)\n",
    "n = len(df)\n",
    "sample_ix = list(range(n))\n",
    "random.shuffle(sample_ix)\n",
    "\n",
    "#separate index into train and validation\n",
    "train_n = round(n * .8)\n",
    "train_ix = sample_ix[:train_n]\n",
    "val_ix = sample_ix[train_n:]\n",
    "\n",
    "#create data generators with those indexes\n",
    "train_gen = data_gen(df, sample_ix=train_ix)\n",
    "val_gen = data_gen(df, sample_ix=val_ix)"
   ]
  },
  {
   "cell_type": "markdown",
   "metadata": {},
   "source": [
    "## Build a model\n",
    "\n",
    "Now that we have a data pipeline we want to build a network archetecture that will learn how to drive. To do this I used a similar archetecture as I've used on my Donkey Car that I race in DIY Robocars races. \n",
    "\n",
    "It has Several layers of convolutions and dense layers with a single output for the angle. Some of the characteristics of model include.\n",
    "* It has elu and relu activation functions to introduce non-linearity. \n",
    "* The convolutions use strides that are longer in the X dimension.\n",
    "* To avoid over fitting I use L2 regularizers on most of the layers. \n",
    "* It uses an adam optimizer since this has become the standard for Convlution based nets."
   ]
  },
  {
   "cell_type": "code",
   "execution_count": 24,
   "metadata": {},
   "outputs": [],
   "source": [
    "import keras\n",
    "from keras.layers import Input, Dense, merge\n",
    "from keras.models import Model\n",
    "from keras.models import Sequential\n",
    "from keras.layers import Convolution2D, AveragePooling2D, MaxPool2D, SimpleRNN, Reshape, BatchNormalization\n",
    "from keras.layers import Activation, Dropout, Flatten, Dense, Cropping2D, Lambda\n",
    "from keras.regularizers import l2\n",
    "\n",
    "def build_model1():\n",
    "    '''\n",
    "    Function to create models with convolutional heads and dense tails.\n",
    "    Accepts dictionaries defining the conv and dense layers.\n",
    "    '''\n",
    "\n",
    "    img_in = Input(shape=(160, 320,3), name='img_in')\n",
    "    x = Lambda(lambda x: (x / 255.0) - 0.5)(img_in)\n",
    "    x = Cropping2D(cropping=((60, 20), (0, 0)))(x)\n",
    "    #x = AveragePooling2D(2,2)(x)\n",
    "    x = Convolution2D(16, (4,4), strides=(3,4), activation='elu', kernel_regularizer=l2(0.001))(x)\n",
    "    x = Convolution2D(32, (4,4), strides=(1,2), activation='elu', kernel_regularizer=l2(0.001))(x)\n",
    "    x = Convolution2D(48, (4,4), strides=(1,2), activation='elu', kernel_regularizer=l2(0.001))(x)\n",
    "    x = Convolution2D(64, (3,3), activation='elu', kernel_regularizer=l2(0.001))(x)\n",
    "    x = Convolution2D(64, (3,3), activation='elu', kernel_regularizer=l2(0.001))(x)\n",
    "    x = Convolution2D(64, (3,3), activation='elu', kernel_regularizer=l2(0.001))(x)\n",
    "    x = Flatten(name='flattened')(x)\n",
    "    x = Dense(64, activation='relu', kernel_regularizer=l2(0.002))(x)\n",
    "    x = Dense(32, activation='relu', kernel_regularizer=l2(0.002))(x)\n",
    "    x = Dense(10, activation='relu', kernel_regularizer=l2(0.002))(x)\n",
    "    angle = Dense(1)(x)\n",
    "    \n",
    "    model = Model(inputs=[img_in], outputs=[angle])\n",
    "    model.compile(optimizer='adam', loss='mean_absolute_error')\n",
    "    return model\n",
    "\n",
    "model = build_model1()"
   ]
  },
  {
   "cell_type": "markdown",
   "metadata": {},
   "source": [
    "Here is the structure of the model and the number of parameters."
   ]
  },
  {
   "cell_type": "code",
   "execution_count": 25,
   "metadata": {},
   "outputs": [
    {
     "name": "stdout",
     "output_type": "stream",
     "text": [
      "_________________________________________________________________\n",
      "Layer (type)                 Output Shape              Param #   \n",
      "=================================================================\n",
      "img_in (InputLayer)          (None, 160, 320, 3)       0         \n",
      "_________________________________________________________________\n",
      "lambda_2 (Lambda)            (None, 160, 320, 3)       0         \n",
      "_________________________________________________________________\n",
      "cropping2d_2 (Cropping2D)    (None, 80, 320, 3)        0         \n",
      "_________________________________________________________________\n",
      "conv2d_7 (Conv2D)            (None, 26, 80, 16)        784       \n",
      "_________________________________________________________________\n",
      "conv2d_8 (Conv2D)            (None, 23, 39, 32)        8224      \n",
      "_________________________________________________________________\n",
      "conv2d_9 (Conv2D)            (None, 20, 18, 48)        24624     \n",
      "_________________________________________________________________\n",
      "conv2d_10 (Conv2D)           (None, 18, 16, 64)        27712     \n",
      "_________________________________________________________________\n",
      "conv2d_11 (Conv2D)           (None, 16, 14, 64)        36928     \n",
      "_________________________________________________________________\n",
      "conv2d_12 (Conv2D)           (None, 14, 12, 64)        36928     \n",
      "_________________________________________________________________\n",
      "flattened (Flatten)          (None, 10752)             0         \n",
      "_________________________________________________________________\n",
      "dense_5 (Dense)              (None, 64)                688192    \n",
      "_________________________________________________________________\n",
      "dense_6 (Dense)              (None, 32)                2080      \n",
      "_________________________________________________________________\n",
      "dense_7 (Dense)              (None, 10)                330       \n",
      "_________________________________________________________________\n",
      "dense_8 (Dense)              (None, 1)                 11        \n",
      "=================================================================\n",
      "Total params: 825,813\n",
      "Trainable params: 825,813\n",
      "Non-trainable params: 0\n",
      "_________________________________________________________________\n"
     ]
    }
   ],
   "source": [
    "model.summary()"
   ]
  },
  {
   "cell_type": "markdown",
   "metadata": {},
   "source": [
    "To train the net I feed use the training and validation generator to train and test the network. Callbacks are used to save the model with the lowest validation error and stop when the validation error stops improving. "
   ]
  },
  {
   "cell_type": "code",
   "execution_count": 26,
   "metadata": {},
   "outputs": [
    {
     "name": "stdout",
     "output_type": "stream",
     "text": [
      "Epoch 1/50\n",
      " 27/100 [=======>......................] - ETA: 149s - loss: 0.6366"
     ]
    },
    {
     "ename": "KeyboardInterrupt",
     "evalue": "",
     "output_type": "error",
     "traceback": [
      "\u001b[0;31m-----------------------------------------------------------------------\u001b[0m",
      "\u001b[0;31mKeyboardInterrupt\u001b[0m                     Traceback (most recent call last)",
      "\u001b[0;32m<ipython-input-26-367a30d0c884>\u001b[0m in \u001b[0;36m<module>\u001b[0;34m()\u001b[0m\n\u001b[1;32m     10\u001b[0m \u001b[0;34m\u001b[0m\u001b[0m\n\u001b[1;32m     11\u001b[0m model.fit_generator(train_gen, 100, epochs=50, validation_data=val_gen, \n\u001b[0;32m---> 12\u001b[0;31m                     callbacks=callbacks_list, validation_steps=40)\n\u001b[0m",
      "\u001b[0;32m/home/wroscoe/code/donkey/env/lib/python3.5/site-packages/keras/legacy/interfaces.py\u001b[0m in \u001b[0;36mwrapper\u001b[0;34m(*args, **kwargs)\u001b[0m\n\u001b[1;32m     86\u001b[0m                 warnings.warn('Update your `' + object_name +\n\u001b[1;32m     87\u001b[0m                               '` call to the Keras 2 API: ' + signature, stacklevel=2)\n\u001b[0;32m---> 88\u001b[0;31m             \u001b[0;32mreturn\u001b[0m \u001b[0mfunc\u001b[0m\u001b[0;34m(\u001b[0m\u001b[0;34m*\u001b[0m\u001b[0margs\u001b[0m\u001b[0;34m,\u001b[0m \u001b[0;34m**\u001b[0m\u001b[0mkwargs\u001b[0m\u001b[0;34m)\u001b[0m\u001b[0;34m\u001b[0m\u001b[0m\n\u001b[0m\u001b[1;32m     89\u001b[0m         \u001b[0mwrapper\u001b[0m\u001b[0;34m.\u001b[0m\u001b[0m_legacy_support_signature\u001b[0m \u001b[0;34m=\u001b[0m \u001b[0minspect\u001b[0m\u001b[0;34m.\u001b[0m\u001b[0mgetargspec\u001b[0m\u001b[0;34m(\u001b[0m\u001b[0mfunc\u001b[0m\u001b[0;34m)\u001b[0m\u001b[0;34m\u001b[0m\u001b[0m\n\u001b[1;32m     90\u001b[0m         \u001b[0;32mreturn\u001b[0m \u001b[0mwrapper\u001b[0m\u001b[0;34m\u001b[0m\u001b[0m\n",
      "\u001b[0;32m/home/wroscoe/code/donkey/env/lib/python3.5/site-packages/keras/engine/training.py\u001b[0m in \u001b[0;36mfit_generator\u001b[0;34m(self, generator, steps_per_epoch, epochs, verbose, callbacks, validation_data, validation_steps, class_weight, max_q_size, workers, pickle_safe, initial_epoch)\u001b[0m\n\u001b[1;32m   1875\u001b[0m                     outs = self.train_on_batch(x, y,\n\u001b[1;32m   1876\u001b[0m                                                \u001b[0msample_weight\u001b[0m\u001b[0;34m=\u001b[0m\u001b[0msample_weight\u001b[0m\u001b[0;34m,\u001b[0m\u001b[0;34m\u001b[0m\u001b[0m\n\u001b[0;32m-> 1877\u001b[0;31m                                                class_weight=class_weight)\n\u001b[0m\u001b[1;32m   1878\u001b[0m \u001b[0;34m\u001b[0m\u001b[0m\n\u001b[1;32m   1879\u001b[0m                     \u001b[0;32mif\u001b[0m \u001b[0;32mnot\u001b[0m \u001b[0misinstance\u001b[0m\u001b[0;34m(\u001b[0m\u001b[0mouts\u001b[0m\u001b[0;34m,\u001b[0m \u001b[0mlist\u001b[0m\u001b[0;34m)\u001b[0m\u001b[0;34m:\u001b[0m\u001b[0;34m\u001b[0m\u001b[0m\n",
      "\u001b[0;32m/home/wroscoe/code/donkey/env/lib/python3.5/site-packages/keras/engine/training.py\u001b[0m in \u001b[0;36mtrain_on_batch\u001b[0;34m(self, x, y, sample_weight, class_weight)\u001b[0m\n\u001b[1;32m   1619\u001b[0m             \u001b[0mins\u001b[0m \u001b[0;34m=\u001b[0m \u001b[0mx\u001b[0m \u001b[0;34m+\u001b[0m \u001b[0my\u001b[0m \u001b[0;34m+\u001b[0m \u001b[0msample_weights\u001b[0m\u001b[0;34m\u001b[0m\u001b[0m\n\u001b[1;32m   1620\u001b[0m         \u001b[0mself\u001b[0m\u001b[0;34m.\u001b[0m\u001b[0m_make_train_function\u001b[0m\u001b[0;34m(\u001b[0m\u001b[0;34m)\u001b[0m\u001b[0;34m\u001b[0m\u001b[0m\n\u001b[0;32m-> 1621\u001b[0;31m         \u001b[0moutputs\u001b[0m \u001b[0;34m=\u001b[0m \u001b[0mself\u001b[0m\u001b[0;34m.\u001b[0m\u001b[0mtrain_function\u001b[0m\u001b[0;34m(\u001b[0m\u001b[0mins\u001b[0m\u001b[0;34m)\u001b[0m\u001b[0;34m\u001b[0m\u001b[0m\n\u001b[0m\u001b[1;32m   1622\u001b[0m         \u001b[0;32mif\u001b[0m \u001b[0mlen\u001b[0m\u001b[0;34m(\u001b[0m\u001b[0moutputs\u001b[0m\u001b[0;34m)\u001b[0m \u001b[0;34m==\u001b[0m \u001b[0;36m1\u001b[0m\u001b[0;34m:\u001b[0m\u001b[0;34m\u001b[0m\u001b[0m\n\u001b[1;32m   1623\u001b[0m             \u001b[0;32mreturn\u001b[0m \u001b[0moutputs\u001b[0m\u001b[0;34m[\u001b[0m\u001b[0;36m0\u001b[0m\u001b[0;34m]\u001b[0m\u001b[0;34m\u001b[0m\u001b[0m\n",
      "\u001b[0;32m/home/wroscoe/code/donkey/env/lib/python3.5/site-packages/keras/backend/tensorflow_backend.py\u001b[0m in \u001b[0;36m__call__\u001b[0;34m(self, inputs)\u001b[0m\n\u001b[1;32m   2101\u001b[0m         \u001b[0msession\u001b[0m \u001b[0;34m=\u001b[0m \u001b[0mget_session\u001b[0m\u001b[0;34m(\u001b[0m\u001b[0;34m)\u001b[0m\u001b[0;34m\u001b[0m\u001b[0m\n\u001b[1;32m   2102\u001b[0m         updated = session.run(self.outputs + [self.updates_op],\n\u001b[0;32m-> 2103\u001b[0;31m                               feed_dict=feed_dict)\n\u001b[0m\u001b[1;32m   2104\u001b[0m         \u001b[0;32mreturn\u001b[0m \u001b[0mupdated\u001b[0m\u001b[0;34m[\u001b[0m\u001b[0;34m:\u001b[0m\u001b[0mlen\u001b[0m\u001b[0;34m(\u001b[0m\u001b[0mself\u001b[0m\u001b[0;34m.\u001b[0m\u001b[0moutputs\u001b[0m\u001b[0;34m)\u001b[0m\u001b[0;34m]\u001b[0m\u001b[0;34m\u001b[0m\u001b[0m\n\u001b[1;32m   2105\u001b[0m \u001b[0;34m\u001b[0m\u001b[0m\n",
      "\u001b[0;32m/home/wroscoe/code/donkey/env/lib/python3.5/site-packages/tensorflow/python/client/session.py\u001b[0m in \u001b[0;36mrun\u001b[0;34m(self, fetches, feed_dict, options, run_metadata)\u001b[0m\n\u001b[1;32m    776\u001b[0m     \u001b[0;32mtry\u001b[0m\u001b[0;34m:\u001b[0m\u001b[0;34m\u001b[0m\u001b[0m\n\u001b[1;32m    777\u001b[0m       result = self._run(None, fetches, feed_dict, options_ptr,\n\u001b[0;32m--> 778\u001b[0;31m                          run_metadata_ptr)\n\u001b[0m\u001b[1;32m    779\u001b[0m       \u001b[0;32mif\u001b[0m \u001b[0mrun_metadata\u001b[0m\u001b[0;34m:\u001b[0m\u001b[0;34m\u001b[0m\u001b[0m\n\u001b[1;32m    780\u001b[0m         \u001b[0mproto_data\u001b[0m \u001b[0;34m=\u001b[0m \u001b[0mtf_session\u001b[0m\u001b[0;34m.\u001b[0m\u001b[0mTF_GetBuffer\u001b[0m\u001b[0;34m(\u001b[0m\u001b[0mrun_metadata_ptr\u001b[0m\u001b[0;34m)\u001b[0m\u001b[0;34m\u001b[0m\u001b[0m\n",
      "\u001b[0;32m/home/wroscoe/code/donkey/env/lib/python3.5/site-packages/tensorflow/python/client/session.py\u001b[0m in \u001b[0;36m_run\u001b[0;34m(self, handle, fetches, feed_dict, options, run_metadata)\u001b[0m\n\u001b[1;32m    980\u001b[0m     \u001b[0;32mif\u001b[0m \u001b[0mfinal_fetches\u001b[0m \u001b[0;32mor\u001b[0m \u001b[0mfinal_targets\u001b[0m\u001b[0;34m:\u001b[0m\u001b[0;34m\u001b[0m\u001b[0m\n\u001b[1;32m    981\u001b[0m       results = self._do_run(handle, final_targets, final_fetches,\n\u001b[0;32m--> 982\u001b[0;31m                              feed_dict_string, options, run_metadata)\n\u001b[0m\u001b[1;32m    983\u001b[0m     \u001b[0;32melse\u001b[0m\u001b[0;34m:\u001b[0m\u001b[0;34m\u001b[0m\u001b[0m\n\u001b[1;32m    984\u001b[0m       \u001b[0mresults\u001b[0m \u001b[0;34m=\u001b[0m \u001b[0;34m[\u001b[0m\u001b[0;34m]\u001b[0m\u001b[0;34m\u001b[0m\u001b[0m\n",
      "\u001b[0;32m/home/wroscoe/code/donkey/env/lib/python3.5/site-packages/tensorflow/python/client/session.py\u001b[0m in \u001b[0;36m_do_run\u001b[0;34m(self, handle, target_list, fetch_list, feed_dict, options, run_metadata)\u001b[0m\n\u001b[1;32m   1030\u001b[0m     \u001b[0;32mif\u001b[0m \u001b[0mhandle\u001b[0m \u001b[0;32mis\u001b[0m \u001b[0;32mNone\u001b[0m\u001b[0;34m:\u001b[0m\u001b[0;34m\u001b[0m\u001b[0m\n\u001b[1;32m   1031\u001b[0m       return self._do_call(_run_fn, self._session, feed_dict, fetch_list,\n\u001b[0;32m-> 1032\u001b[0;31m                            target_list, options, run_metadata)\n\u001b[0m\u001b[1;32m   1033\u001b[0m     \u001b[0;32melse\u001b[0m\u001b[0;34m:\u001b[0m\u001b[0;34m\u001b[0m\u001b[0m\n\u001b[1;32m   1034\u001b[0m       return self._do_call(_prun_fn, self._session, handle, feed_dict,\n",
      "\u001b[0;32m/home/wroscoe/code/donkey/env/lib/python3.5/site-packages/tensorflow/python/client/session.py\u001b[0m in \u001b[0;36m_do_call\u001b[0;34m(self, fn, *args)\u001b[0m\n\u001b[1;32m   1037\u001b[0m   \u001b[0;32mdef\u001b[0m \u001b[0m_do_call\u001b[0m\u001b[0;34m(\u001b[0m\u001b[0mself\u001b[0m\u001b[0;34m,\u001b[0m \u001b[0mfn\u001b[0m\u001b[0;34m,\u001b[0m \u001b[0;34m*\u001b[0m\u001b[0margs\u001b[0m\u001b[0;34m)\u001b[0m\u001b[0;34m:\u001b[0m\u001b[0;34m\u001b[0m\u001b[0m\n\u001b[1;32m   1038\u001b[0m     \u001b[0;32mtry\u001b[0m\u001b[0;34m:\u001b[0m\u001b[0;34m\u001b[0m\u001b[0m\n\u001b[0;32m-> 1039\u001b[0;31m       \u001b[0;32mreturn\u001b[0m \u001b[0mfn\u001b[0m\u001b[0;34m(\u001b[0m\u001b[0;34m*\u001b[0m\u001b[0margs\u001b[0m\u001b[0;34m)\u001b[0m\u001b[0;34m\u001b[0m\u001b[0m\n\u001b[0m\u001b[1;32m   1040\u001b[0m     \u001b[0;32mexcept\u001b[0m \u001b[0merrors\u001b[0m\u001b[0;34m.\u001b[0m\u001b[0mOpError\u001b[0m \u001b[0;32mas\u001b[0m \u001b[0me\u001b[0m\u001b[0;34m:\u001b[0m\u001b[0;34m\u001b[0m\u001b[0m\n\u001b[1;32m   1041\u001b[0m       \u001b[0mmessage\u001b[0m \u001b[0;34m=\u001b[0m \u001b[0mcompat\u001b[0m\u001b[0;34m.\u001b[0m\u001b[0mas_text\u001b[0m\u001b[0;34m(\u001b[0m\u001b[0me\u001b[0m\u001b[0;34m.\u001b[0m\u001b[0mmessage\u001b[0m\u001b[0;34m)\u001b[0m\u001b[0;34m\u001b[0m\u001b[0m\n",
      "\u001b[0;32m/home/wroscoe/code/donkey/env/lib/python3.5/site-packages/tensorflow/python/client/session.py\u001b[0m in \u001b[0;36m_run_fn\u001b[0;34m(session, feed_dict, fetch_list, target_list, options, run_metadata)\u001b[0m\n\u001b[1;32m   1019\u001b[0m         return tf_session.TF_Run(session, options,\n\u001b[1;32m   1020\u001b[0m                                  \u001b[0mfeed_dict\u001b[0m\u001b[0;34m,\u001b[0m \u001b[0mfetch_list\u001b[0m\u001b[0;34m,\u001b[0m \u001b[0mtarget_list\u001b[0m\u001b[0;34m,\u001b[0m\u001b[0;34m\u001b[0m\u001b[0m\n\u001b[0;32m-> 1021\u001b[0;31m                                  status, run_metadata)\n\u001b[0m\u001b[1;32m   1022\u001b[0m \u001b[0;34m\u001b[0m\u001b[0m\n\u001b[1;32m   1023\u001b[0m     \u001b[0;32mdef\u001b[0m \u001b[0m_prun_fn\u001b[0m\u001b[0;34m(\u001b[0m\u001b[0msession\u001b[0m\u001b[0;34m,\u001b[0m \u001b[0mhandle\u001b[0m\u001b[0;34m,\u001b[0m \u001b[0mfeed_dict\u001b[0m\u001b[0;34m,\u001b[0m \u001b[0mfetch_list\u001b[0m\u001b[0;34m)\u001b[0m\u001b[0;34m:\u001b[0m\u001b[0;34m\u001b[0m\u001b[0m\n",
      "\u001b[0;31mKeyboardInterrupt\u001b[0m: "
     ]
    }
   ],
   "source": [
    "#checkpoint to save model after each epoch\n",
    "save_best = keras.callbacks.ModelCheckpoint('model.hdf5', monitor='val_loss', verbose=1, \n",
    "                                      save_best_only=True, mode='min')\n",
    "\n",
    "#stop training if the validation error stops improving.\n",
    "early_stop = keras.callbacks.EarlyStopping(monitor='val_loss', min_delta=.0005, patience=2, \n",
    "                                     verbose=1, mode='auto')\n",
    "\n",
    "callbacks_list = [save_best, early_stop]\n",
    "\n",
    "model.fit_generator(train_gen, 100, epochs=50, validation_data=val_gen, \n",
    "                    callbacks=callbacks_list, validation_steps=40)"
   ]
  },
  {
   "cell_type": "markdown",
   "metadata": {},
   "source": [
    "## Future Improvements.\n",
    "\n",
    "Unfortunately I'm rushed to finish my last homeworks assigments so I'm not experimenting as much as I'd like. Later I'd like to come back on try the following things."
   ]
  },
  {
   "cell_type": "markdown",
   "metadata": {},
   "source": [
    "* Use image augmentation (blur, shift, ..) to make the model more robust.\n",
    "* train the throttle so the car slows down on the corners and speeds up on the straights.\n",
    "* See how small the model could get and still work. Try using Devol (genetic algo) to find the best network."
   ]
  },
  {
   "cell_type": "code",
   "execution_count": null,
   "metadata": {
    "collapsed": true
   },
   "outputs": [],
   "source": []
  }
 ],
 "metadata": {
  "anaconda-cloud": {},
  "kernelspec": {
   "display_name": "Python 3",
   "language": "python",
   "name": "python3"
  },
  "language_info": {
   "codemirror_mode": {
    "name": "ipython",
    "version": 3
   },
   "file_extension": ".py",
   "mimetype": "text/x-python",
   "name": "python",
   "nbconvert_exporter": "python",
   "pygments_lexer": "ipython3",
   "version": "3.5.2"
  }
 },
 "nbformat": 4,
 "nbformat_minor": 1
}
