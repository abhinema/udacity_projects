{
 "cells": [
  {
   "cell_type": "code",
   "execution_count": 1,
   "metadata": {
    "collapsed": false
   },
   "outputs": [],
   "source": [
    "import cv2\n",
    "import os\n",
    "import pandas as pd\n",
    "import numpy as np\n",
    "from PIL import Image\n",
    "import random\n",
    "%matplotlib inline"
   ]
  },
  {
   "cell_type": "code",
   "execution_count": 2,
   "metadata": {
    "collapsed": false
   },
   "outputs": [],
   "source": [
    "def convert_paths(df, folder):\n",
    "    #convert paths of datalog to those on local computer\n",
    "    for i in range(len(df)):\n",
    "        for col in ['img_center', 'img_left', 'img_right']:\n",
    "            file = df.ix[i, col].split('/')[-1]\n",
    "            img_path = os.path.join(img_folder, file)\n",
    "            df.ix[i, col] = img_path\n",
    "    return df\n",
    "\n",
    "def load_datasets(folders):\n",
    "    #load datasets from multiple folders\n",
    "    dataframes = []\n",
    "    for folder in folders:\n",
    "        df = pd.read_csv(os.path.join(folder, 'driving_log.csv'))\n",
    "        df.columns = ['img_center', 'img_left', 'img_right', 'steering', 'throttle', 'break', 'speed']\n",
    "        df = convert_paths(df, folder)\n",
    "        dataframes.append(df)\n",
    "    df = pd.concat(dataframes)\n",
    "    return df\n",
    "\n"
   ]
  },
  {
   "cell_type": "code",
   "execution_count": 3,
   "metadata": {
    "collapsed": false
   },
   "outputs": [],
   "source": [
    "data_path = '/home/ubuntu/udacity_projects/P3_behavioral_cloning/driving_data/'\n",
    "track1_path = os.path.join(data_path, 'track_1')\n",
    "img_folder = os.path.join(track1_path, 'IMG')\n",
    "\n",
    "folders = [track1_path]\n",
    "df = load_datasets(folders)"
   ]
  },
  {
   "cell_type": "code",
   "execution_count": 4,
   "metadata": {
    "collapsed": false
   },
   "outputs": [
    {
     "data": {
      "text/plain": [
       "<matplotlib.axes._subplots.AxesSubplot at 0x7f1a50f75e80>"
      ]
     },
     "execution_count": 4,
     "metadata": {},
     "output_type": "execute_result"
    },
    {
     "data": {
      "image/png": "[encoded data removed]",
      "text/plain": [
       "<matplotlib.figure.Figure at 0x7f1a50f75668>"
      ]
     },
     "metadata": {},
     "output_type": "display_data"
    }
   ],
   "source": [
    "\n",
    "df['steering'].hist()"
   ]
  },
  {
   "cell_type": "code",
   "execution_count": 5,
   "metadata": {
    "collapsed": false
   },
   "outputs": [],
   "source": [
    "ix = df[(df['steering'] > -.1) & (df['steering'] < .1) ].index"
   ]
  },
  {
   "cell_type": "code",
   "execution_count": 6,
   "metadata": {
    "collapsed": false
   },
   "outputs": [
    {
     "data": {
      "text/plain": [
       "1079"
      ]
     },
     "execution_count": 6,
     "metadata": {},
     "output_type": "execute_result"
    }
   ],
   "source": [
    "arr = list(ix.get_values())\n",
    "ix_remove = random.sample(arr, round(len(arr) * .8))\n",
    "ix_remove = df.index.isin(ix_remove)\n",
    "df_curves = df[~ix_remove]\n",
    "len(df_curves)"
   ]
  },
  {
   "cell_type": "code",
   "execution_count": 7,
   "metadata": {
    "collapsed": false
   },
   "outputs": [
    {
     "data": {
      "text/plain": [
       "<matplotlib.axes._subplots.AxesSubplot at 0x7f1a50b66668>"
      ]
     },
     "execution_count": 7,
     "metadata": {},
     "output_type": "execute_result"
    },
    {
     "data": {
      "image/png": "[encoded data removed]",
      "text/plain": [
       "<matplotlib.figure.Figure at 0x7f1a50f75518>"
      ]
     },
     "metadata": {},
     "output_type": "display_data"
    }
   ],
   "source": [
    "df_curves['steering'].hist()"
   ]
  },
  {
   "cell_type": "code",
   "execution_count": 8,
   "metadata": {
    "collapsed": true
   },
   "outputs": [],
   "source": [
    "\n",
    "\n",
    "def get_data(row, img_col, \n",
    "             steering_col='steering', steering_adjust=.1):\n",
    "    \n",
    "    img = Image.open(df[img_col][row])\n",
    "    img_arr = np.array(img)\n",
    "    angle = df[steering_col][row] + steering_adjust\n",
    "    return img_arr, angle\n",
    "\n",
    "\n",
    "def data_gen(df, batch_size=32, adjust=.1, sample_ix=None):\n",
    "    arg_choices = [{'img_col': 'img_center', 'adjust': 0.0},\n",
    "                   {'img_col': 'img_left',   'adjust': adjust},\n",
    "                   {'img_col': 'img_right',  'adjust': -adjust},]\n",
    "       \n",
    "    if sample_ix is None:\n",
    "        sample_ix = list(range(len(df)))\n",
    "        random.shuffle(sample_ix)\n",
    "    \n",
    "    #print(df.head())\n",
    "    while True:\n",
    "        images=[]\n",
    "        angles=[]\n",
    "        rows = sample_ix[:batch_size]\n",
    "        for i in rows:\n",
    "            args = random.choice(arg_choices)\n",
    "            img, angle = get_data(i, args['img_col'], steering_adjust=args['adjust'])\n",
    "\n",
    "            \n",
    "            flip = random.randint(0, 1)\n",
    "            if flip == 1:\n",
    "                img = np.fliplr(img)\n",
    "                angle = -angle\n",
    "                \n",
    "            images.append(img)\n",
    "            angles.append(angle)\n",
    "\n",
    "        X_train = np.array(images)\n",
    "        y_train = np.array(angles)\n",
    "        yield X_train, y_train"
   ]
  },
  {
   "cell_type": "code",
   "execution_count": 25,
   "metadata": {
    "collapsed": false
   },
   "outputs": [],
   "source": [
    "#create index of all data\n",
    "df = df_curves.reset_index(drop=True)"
   ]
  },
  {
   "cell_type": "code",
   "execution_count": 26,
   "metadata": {
    "collapsed": true
   },
   "outputs": [],
   "source": [
    "\n",
    "n = len(df)\n",
    "sample_ix = list(range(n))\n",
    "random.shuffle(sample_ix)\n",
    "\n",
    "#separate index into train and validation\n",
    "train_n = round(n * .8)\n",
    "train_ix = sample_ix[:train_n]\n",
    "val_ix = sample_ix[train_n:]\n",
    "\n",
    "#create data generators with those indexes\n",
    "train_gen = data_gen(df, sample_ix=train_ix)\n",
    "val_gen = data_gen(df, sample_ix=val_ix)\n"
   ]
  },
  {
   "cell_type": "code",
   "execution_count": 39,
   "metadata": {
    "collapsed": false
   },
   "outputs": [],
   "source": [
    "import keras\n",
    "from keras.layers import Input, Dense, merge\n",
    "from keras.models import Model\n",
    "from keras.models import Sequential\n",
    "from keras.layers import Convolution2D, MaxPooling2D, SimpleRNN, Reshape, BatchNormalization\n",
    "from keras.layers import Activation, Dropout, Flatten, Dense, Cropping2D, Lambda\n",
    "from keras.regularizers import l2\n",
    "\n",
    "\n",
    "def build_model():\n",
    "    '''\n",
    "    Function to create models with convolutional heads and dense tails.\n",
    "    Accepts dictionaries defining the conv and dense layers.\n",
    "    '''\n",
    "\n",
    "    img_in = Input(shape=(160, 320,3), name='img_in')\n",
    "    x = Lambda(lambda x: (x / 255.0) - 0.5)(img_in)\n",
    "    x = Cropping2D(cropping=((70, 25), (0, 0)))(x)\n",
    "    x = Convolution2D(24, (5,5), strides=(2,2), activation='elu', kernel_regularizer=l2(0.001))(x)\n",
    "    x = Convolution2D(32, (5,5), strides=(2,2), activation='elu', kernel_regularizer=l2(0.001))(x)\n",
    "    x = Convolution2D(48, (5,5), strides=(2,2), activation='elu', kernel_regularizer=l2(0.001))(x)\n",
    "    x = Convolution2D(64, (3,3), activation='elu', kernel_regularizer=l2(0.001))(x)\n",
    "    x = Convolution2D(64, (3,3), activation='elu', kernel_regularizer=l2(0.001))(x)\n",
    "\n",
    "    \n",
    "    x = Flatten(name='flattened')(x)\n",
    "    x = Dense(128, activation='relu')(x)\n",
    "    x = Dropout(.4)(x)\n",
    "    x = Dense(32, activation='relu')(x)\n",
    "    x = Dropout(.3)(x)\n",
    "    angle = Dense(1)(x)\n",
    "    \n",
    "    model = Model(inputs=[img_in], outputs=[angle])\n",
    "    model.compile(optimizer='adam', loss='mean_absolute_error')\n",
    "    return model"
   ]
  },
  {
   "cell_type": "code",
   "execution_count": 40,
   "metadata": {
    "collapsed": false
   },
   "outputs": [],
   "source": [
    "model = build_model()"
   ]
  },
  {
   "cell_type": "code",
   "execution_count": 42,
   "metadata": {
    "collapsed": false
   },
   "outputs": [
    {
     "name": "stdout",
     "output_type": "stream",
     "text": [
      "Epoch 1/10\n",
      "100/100 [==============================] - 7s - loss: 0.1169 - val_loss: 0.2814\n",
      "Epoch 2/10\n",
      "100/100 [==============================] - 7s - loss: 0.1039 - val_loss: 0.2703\n",
      "Epoch 3/10\n",
      "100/100 [==============================] - 7s - loss: 0.0956 - val_loss: 0.2767\n",
      "Epoch 4/10\n",
      "100/100 [==============================] - 6s - loss: 0.0891 - val_loss: 0.2789\n",
      "Epoch 5/10\n",
      "100/100 [==============================] - 7s - loss: 0.0831 - val_loss: 0.2573\n",
      "Epoch 6/10\n",
      "100/100 [==============================] - 7s - loss: 0.0782 - val_loss: 0.2700\n",
      "Epoch 7/10\n",
      "100/100 [==============================] - 7s - loss: 0.0729 - val_loss: 0.2630\n",
      "Epoch 8/10\n",
      "100/100 [==============================] - 7s - loss: 0.0714 - val_loss: 0.2762\n",
      "Epoch 9/10\n",
      "100/100 [==============================] - 7s - loss: 0.0703 - val_loss: 0.2707\n",
      "Epoch 10/10\n",
      "100/100 [==============================] - 7s - loss: 0.0660 - val_loss: 0.2692\n"
     ]
    },
    {
     "data": {
      "text/plain": [
       "<keras.callbacks.History at 0x7f19dce0d6a0>"
      ]
     },
     "execution_count": 42,
     "metadata": {},
     "output_type": "execute_result"
    }
   ],
   "source": [
    "model.fit_generator(train_gen, 100, epochs=10, validation_data=val_gen, validation_steps=20)\n",
    "    "
   ]
  },
  {
   "cell_type": "code",
   "execution_count": 43,
   "metadata": {
    "collapsed": true
   },
   "outputs": [],
   "source": [
    "model.save('model.hdf5')"
   ]
  },
  {
   "cell_type": "code",
   "execution_count": 52,
   "metadata": {
    "collapsed": false
   },
   "outputs": [],
   "source": [
    "imgs, angles = next(train_gen)"
   ]
  },
  {
   "cell_type": "code",
   "execution_count": 53,
   "metadata": {
    "collapsed": false
   },
   "outputs": [
    {
     "data": {
      "text/plain": [
       "array([[ 0.00306399],\n",
       "       [ 0.003748  ],\n",
       "       [-0.09513991]], dtype=float32)"
      ]
     },
     "execution_count": 53,
     "metadata": {},
     "output_type": "execute_result"
    }
   ],
   "source": [
    "model.predict(imgs[:3])"
   ]
  },
  {
   "cell_type": "code",
   "execution_count": null,
   "metadata": {
    "collapsed": true
   },
   "outputs": [],
   "source": []
  }
 ],
 "metadata": {
  "anaconda-cloud": {},
  "kernelspec": {
   "display_name": "Python [default]",
   "language": "python",
   "name": "python3"
  },
  "language_info": {
   "codemirror_mode": {
    "name": "ipython",
    "version": 3
   },
   "file_extension": ".py",
   "mimetype": "text/x-python",
   "name": "python",
   "nbconvert_exporter": "python",
   "pygments_lexer": "ipython3",
   "version": "3.5.2"
  }
 },
 "nbformat": 4,
 "nbformat_minor": 1
}
